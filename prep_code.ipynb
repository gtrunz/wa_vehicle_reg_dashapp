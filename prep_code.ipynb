{
 "cells": [
  {
   "cell_type": "markdown",
   "id": "19656cda",
   "metadata": {},
   "source": [
    "# Data Prep Code\n",
    "\n",
    "This code prepares all of the data that the dashboard code uses as input."
   ]
  },
  {
   "cell_type": "code",
   "execution_count": 1,
   "id": "e383452e",
   "metadata": {},
   "outputs": [],
   "source": [
    "#import libraries\n",
    "from itertools import product\n",
    "import pandas as pd\n",
    "import geopandas as gpd\n",
    "import numpy as np\n",
    "import matplotlib as mpl\n",
    "import matplotlib.pyplot as plt\n",
    "from matplotlib.gridspec import GridSpec\n",
    "import seaborn as sns\n",
    "\n",
    "import pyspark\n",
    "from pyspark import SparkContext\n",
    "from pyspark.sql import SQLContext, SparkSession, functions\n",
    "import pyspark.sql.functions as f\n",
    "from pyspark.sql.types import *\n",
    "\n",
    "import geopandas\n",
    "from geojson_rewind import rewind\n",
    "import json"
   ]
  },
  {
   "cell_type": "markdown",
   "id": "1ad88550",
   "metadata": {},
   "source": [
    "The next cell defines helper functions used elsewhere in the notebook."
   ]
  },
  {
   "cell_type": "code",
   "execution_count": 2,
   "id": "a15a2c92",
   "metadata": {},
   "outputs": [],
   "source": [
    "#function for executing a query via spark\n",
    "def query_to_df(query, show_num = False, count = False, export = False):\n",
    "    \n",
    "    #run query\n",
    "    result = spark.sql(query)\n",
    "    \n",
    "    #show show_num rows of the data if applicable\n",
    "    if show_num:\n",
    "        result.cache()\n",
    "        result.show(show_num)\n",
    "    \n",
    "    #show the count (number of rows) if applicable\n",
    "    if count:\n",
    "        result.cache()\n",
    "        n_rows = result.count()\n",
    "        print('Rows:',n_rows)\n",
    "        \n",
    "    #store in df\n",
    "    result_df = result.toPandas()\n",
    "    \n",
    "    #export df to csv if applicable\n",
    "    if export:\n",
    "        result_df.to_csv(export, index = False)\n",
    "        \n",
    "    #return df\n",
    "    return result_df\n",
    "\n",
    "\n",
    "#function for formatting brand names\n",
    "special_fmt_brands = {'gmc':'GMC',\n",
    "                      'bmw':'BMW',\n",
    "                      'mercedesbenz':'Mercedes-Benz'}\n",
    "def get_formatted_brand_name(x):\n",
    "    if x.lower() in special_fmt_brands:\n",
    "        return special_fmt_brands[x.lower()]\n",
    "    else:\n",
    "        return x.title()"
   ]
  },
  {
   "cell_type": "markdown",
   "id": "b37cdef0",
   "metadata": {},
   "source": [
    "The below cell specifies the latest year and month as far as the analysis is concerned."
   ]
  },
  {
   "cell_type": "code",
   "execution_count": 3,
   "id": "7e9ef81f",
   "metadata": {},
   "outputs": [],
   "source": [
    "#specify current year\n",
    "curr_yr = 2023\n",
    "#specify current month\n",
    "curr_mo = 9"
   ]
  },
  {
   "cell_type": "markdown",
   "id": "b33a9d87",
   "metadata": {},
   "source": [
    "## Read in Data"
   ]
  },
  {
   "cell_type": "markdown",
   "id": "854ac104",
   "metadata": {},
   "source": [
    "Next, we read in supplementary files related to county median incomes, populations, and areas (to get populatin density), as well as a geographic file that has unique numeric IDs for all of the counties. All of this data is merged together into the `map_df` data frame. This data will be needed for map and scatter plot visuals in the dashboard. "
   ]
  },
  {
   "cell_type": "code",
   "execution_count": 4,
   "id": "8debf07d",
   "metadata": {},
   "outputs": [
    {
     "name": "stdout",
     "output_type": "stream",
     "text": [
      "map_df:\n"
     ]
    },
    {
     "data": {
      "text/html": [
       "<div>\n",
       "<style scoped>\n",
       "    .dataframe tbody tr th:only-of-type {\n",
       "        vertical-align: middle;\n",
       "    }\n",
       "\n",
       "    .dataframe tbody tr th {\n",
       "        vertical-align: top;\n",
       "    }\n",
       "\n",
       "    .dataframe thead th {\n",
       "        text-align: right;\n",
       "    }\n",
       "</style>\n",
       "<table border=\"1\" class=\"dataframe\">\n",
       "  <thead>\n",
       "    <tr style=\"text-align: right;\">\n",
       "      <th></th>\n",
       "      <th>county</th>\n",
       "      <th>id</th>\n",
       "      <th>medinc</th>\n",
       "      <th>population</th>\n",
       "      <th>area</th>\n",
       "      <th>popdensity</th>\n",
       "    </tr>\n",
       "  </thead>\n",
       "  <tbody>\n",
       "    <tr>\n",
       "      <th>0</th>\n",
       "      <td>Grant</td>\n",
       "      <td>2455</td>\n",
       "      <td>67262</td>\n",
       "      <td>96648</td>\n",
       "      <td>2680</td>\n",
       "      <td>36.06</td>\n",
       "    </tr>\n",
       "    <tr>\n",
       "      <th>1</th>\n",
       "      <td>Benton</td>\n",
       "      <td>2459</td>\n",
       "      <td>84750</td>\n",
       "      <td>200715</td>\n",
       "      <td>1700</td>\n",
       "      <td>118.07</td>\n",
       "    </tr>\n",
       "    <tr>\n",
       "      <th>2</th>\n",
       "      <td>Okanogan</td>\n",
       "      <td>4179</td>\n",
       "      <td>55779</td>\n",
       "      <td>42080</td>\n",
       "      <td>5266</td>\n",
       "      <td>7.99</td>\n",
       "    </tr>\n",
       "    <tr>\n",
       "      <th>3</th>\n",
       "      <td>Ferry</td>\n",
       "      <td>4183</td>\n",
       "      <td>63490</td>\n",
       "      <td>7643</td>\n",
       "      <td>2203</td>\n",
       "      <td>3.47</td>\n",
       "    </tr>\n",
       "    <tr>\n",
       "      <th>4</th>\n",
       "      <td>Garfield</td>\n",
       "      <td>6623</td>\n",
       "      <td>68355</td>\n",
       "      <td>2258</td>\n",
       "      <td>711</td>\n",
       "      <td>3.18</td>\n",
       "    </tr>\n",
       "  </tbody>\n",
       "</table>\n",
       "</div>"
      ],
      "text/plain": [
       "     county    id  medinc  population  area  popdensity\n",
       "0     Grant  2455   67262       96648  2680       36.06\n",
       "1    Benton  2459   84750      200715  1700      118.07\n",
       "2  Okanogan  4179   55779       42080  5266        7.99\n",
       "3     Ferry  4183   63490        7643  2203        3.47\n",
       "4  Garfield  6623   68355        2258   711        3.18"
      ]
     },
     "metadata": {},
     "output_type": "display_data"
    },
    {
     "name": "stdout",
     "output_type": "stream",
     "text": [
      "...\n"
     ]
    }
   ],
   "source": [
    "#read in and pre-process median income data\n",
    "medinc_df = pd.read_csv('raw_data/medinc2020.csv').rename(columns = {'Label (Grouping)':'county',\n",
    "                'Median family income in the past 12 months (in 2020 inflation-adjusted dollars)':'medinc'})\n",
    "medinc_df['medinc'].fillna(method = 'backfill', inplace = True)\n",
    "medinc_df['medinc'] = medinc_df['medinc'].str.replace(r',|±','', regex = True).astype(int)\n",
    "medinc_df = medinc_df[~(medinc_df['county'].str.strip().isin({'Estimate','Margin of Error'}))]\\\n",
    "                     .reset_index(drop = True)\n",
    "medinc_df['county'] = medinc_df['county'].str.replace('County, Washington','').str.strip()\n",
    "\n",
    "#read in and pre-process median income data\n",
    "population_df = pd.read_csv('raw_data/population2020.csv').rename(columns = {'Label (Grouping)':'county',\n",
    "                                                                         'Total':'population'})\n",
    "population_df['population'].fillna(method = 'backfill', inplace = True)\\\n",
    "                   \n",
    "population_df['population'] = population_df['population'].str.replace(r',','', regex = True)\n",
    "population_df = population_df[~(population_df['county'].str.strip().isin({'Estimate','Margin of Error'}))]\\\n",
    "                             .reset_index(drop = True)\n",
    "population_df['population'] = population_df['population'].astype(int) \n",
    "population_df['county'] = population_df['county'].str.replace('County, Washington','').str.strip()\n",
    "\n",
    "#read in and pre-process area data\n",
    "area_df = pd.read_csv('raw_data/county_area.csv')\n",
    "\n",
    "#merge into demographic df\n",
    "demo_df = medinc_df.merge(population_df, how = 'inner', on = 'county')\\\n",
    "                   .merge(area_df, how = 'inner', on = 'county')\n",
    "\n",
    "#add population density variable\n",
    "demo_df['popdensity'] = (demo_df['population']/demo_df['area']).round(2)\n",
    "\n",
    "#read in geo df\n",
    "#geojson data\n",
    "geojson_path = 'raw_data/geo_data.geojson'\n",
    "with open(geojson_path,'r') as f:\n",
    "    counties = json.load(f)\n",
    "#county ids\n",
    "county_id_map = {}\n",
    "for i,feature in enumerate(counties['features']):\n",
    "    id_num = feature['properties']['OBJECTID']\n",
    "    county_name = feature['properties']['JURISDICT_LABEL_NM']\n",
    "    feature['id'] = id_num\n",
    "    county_id_map[county_name] = id_num\n",
    "#rewind geojson\n",
    "counties = rewind(counties,rfc7946 = False)\n",
    "\n",
    "#geopandas\n",
    "geojson_path = 'raw_data/geo_data.geojson'\n",
    "gdf = gpd.read_file(geojson_path)\n",
    "\n",
    "#ensure id matches geojson\n",
    "gdf['id'] = gdf['JURISDICT_LABEL_NM'].apply(lambda x:  county_id_map[x])\n",
    "gdf = gdf[['JURISDICT_LABEL_NM','id']].rename(columns = {'JURISDICT_LABEL_NM':'county'})\n",
    "\n",
    "#join demo_df with geo id\n",
    "map_df = gdf.merge(demo_df, how = 'left', on = 'county')\n",
    "\n",
    "print('map_df:')\n",
    "display(map_df.head(5))\n",
    "print('...')"
   ]
  },
  {
   "cell_type": "markdown",
   "id": "d6c3aca8",
   "metadata": {},
   "source": [
    "The next cell instantiates a Spark session to help us work with the registration data, which is a larger data set."
   ]
  },
  {
   "cell_type": "code",
   "execution_count": 6,
   "id": "1a6fed41",
   "metadata": {},
   "outputs": [],
   "source": [
    "#instantiate spark session\n",
    "spark = SparkSession.builder\\\n",
    "                    .appName('vr')\\\n",
    "                    .config('spark.cores.max','4')\\\n",
    "                    .getOrCreate()"
   ]
  },
  {
   "cell_type": "markdown",
   "id": "fb8a8b8b",
   "metadata": {},
   "source": [
    "Then, we read in the vehicle registration data using Spark, rename some of the columns, and register it as the table `raw_data`, so that we can query the data using SQL. We also print the number of rows in the data."
   ]
  },
  {
   "cell_type": "code",
   "execution_count": 7,
   "id": "9e930cf3",
   "metadata": {},
   "outputs": [
    {
     "name": "stderr",
     "output_type": "stream",
     "text": [
      "[Stage 1:======================================================>  (41 + 2) / 43]\r"
     ]
    },
    {
     "name": "stdout",
     "output_type": "stream",
     "text": [
      "Rows: 24,990,778\n"
     ]
    },
    {
     "name": "stderr",
     "output_type": "stream",
     "text": [
      "\r",
      "                                                                                \r"
     ]
    }
   ],
   "source": [
    "#read in data\n",
    "df = spark.read.csv('raw_data/reg_data.csv', header = True)\n",
    "\n",
    "#rename columns\n",
    "col_rename_dict = {'Transaction Month and Year':'tr_mo_yr',\n",
    "                  'Make':'brand',\n",
    "                  'Model':'model',\n",
    "                  'Model Year':'v_year',\n",
    "                  'Vehicle Type':'vehicle_type',\n",
    "                  'Vehicle Primary Use':'vehicle_primary_use',\n",
    "                  'Fuel Type Primary':'fuel_type_1',\n",
    "                  'Fuel Type Secondary':'fuel_type_2',\n",
    "                  'Transaction Type':'transact_type',\n",
    "                  'Owner Type':'own_type',\n",
    "                  'County':'county',\n",
    "                  'State':'state',\n",
    "                  'Postal Code':'post_code'}\n",
    "for key,val in col_rename_dict.items():\n",
    "    df = df.withColumnRenamed(key,val)\n",
    "\n",
    "print('Rows:','{:,.0f}'.format(df.count()))\n",
    "    \n",
    "#register as table\n",
    "df.createOrReplaceTempView('raw_data')"
   ]
  },
  {
   "cell_type": "markdown",
   "id": "c8eb7837",
   "metadata": {},
   "source": [
    "The following cell performs some basic preprocessing. Specifically, it creates transaction `month` and `year` variables based on the `tr_mo_yr` column, drops hyphens and spaces from the brand names, subsets relevant variables, and filters out rows where the transaction type is not \"Original Registration.\" This is because the dashboard will only include original registrations.\n",
    "\n",
    "It also prints the number of rows that remain after this filtering, and stores the results in a table `sub_data`."
   ]
  },
  {
   "cell_type": "code",
   "execution_count": 8,
   "id": "82c74ceb",
   "metadata": {},
   "outputs": [
    {
     "name": "stdout",
     "output_type": "stream",
     "text": [
      "+-----+----+-----+-----+------+----------------+------+-----------+-----------+-----+---------+--------------------+\n",
      "|month|year|brand|model|v_year|        own_type|county|fuel_type_1|fuel_type_2|state|post_code|       transact_type|\n",
      "+-----+----+-----+-----+------+----------------+------+-----------+-----------+-----+---------+--------------------+\n",
      "|    1|2020|ACURA|  RDX|  2018|Individual Owner|Pierce|   Gasoline|       null|   WA|    98335|Original Registra...|\n",
      "|    1|2020|ACURA|  RDX|  2020|Individual Owner|  King|   Gasoline|       null|   WA|    98033|Original Registra...|\n",
      "|    1|2020|ACURA|   TL|  2006|Individual Owner|Benton|   Gasoline|       null|   WA|    99354|Original Registra...|\n",
      "+-----+----+-----+-----+------+----------------+------+-----------+-----------+-----+---------+--------------------+\n",
      "only showing top 3 rows\n",
      "\n"
     ]
    },
    {
     "name": "stderr",
     "output_type": "stream",
     "text": [
      "[Stage 5:======================================================>  (41 + 2) / 43]\r"
     ]
    },
    {
     "name": "stdout",
     "output_type": "stream",
     "text": [
      "Rows kept: 1,826,218\n"
     ]
    },
    {
     "name": "stderr",
     "output_type": "stream",
     "text": [
      "\r",
      "[Stage 5:=======================================================> (42 + 1) / 43]\r",
      "\r",
      "                                                                                \r"
     ]
    }
   ],
   "source": [
    "#select relevant columns and subset to include only original registrations\n",
    "query = \"\"\"SELECT CAST(SUBSTRING(tr_mo_yr,1,2) AS INT) AS month,\n",
    "                  CAST(SUBSTRING(tr_mo_yr,7,4) AS INT) AS year, \n",
    "                  REPLACE(REPLACE(brand,'-',''),' ','') AS brand, \n",
    "                  model, v_year, own_type, county, \n",
    "                  fuel_type_1, fuel_type_2,\n",
    "                  state, post_code, transact_type\n",
    "                      FROM raw_data\n",
    "                  WHERE transact_type = 'Original Registration'\"\"\"\n",
    "subdata = spark.sql(query)\n",
    "#preview\n",
    "subdata.show(3)\n",
    "n = subdata.count()\n",
    "print('Rows kept:','{:,.0f}'.format(n))\n",
    "#register as table\n",
    "subdata.createOrReplaceTempView('sub_data')"
   ]
  },
  {
   "cell_type": "markdown",
   "id": "6c10cd96",
   "metadata": {},
   "source": [
    "## Create Fuel Types\n",
    "\n",
    "The original dataset includes primary and seconday fuel type fields &mdash; `fuel_type_1` and `fuel_type_2`, respectively. The below SQL query produces a table that shows the counts and percentage share of each combination of these fields."
   ]
  },
  {
   "cell_type": "code",
   "execution_count": 9,
   "id": "7b49b8c6",
   "metadata": {},
   "outputs": [
    {
     "name": "stderr",
     "output_type": "stream",
     "text": [
      "[Stage 8:======================================================>  (41 + 2) / 43]\r"
     ]
    },
    {
     "name": "stdout",
     "output_type": "stream",
     "text": [
      "+--------------------+--------------------+-------+-------+\n",
      "|         fuel_type_1|         fuel_type_2|  count|    pct|\n",
      "+--------------------+--------------------+-------+-------+\n",
      "|            Gasoline|                null|1405189|76.9453|\n",
      "|            Gasoline|            Electric| 137027| 7.5033|\n",
      "|            Electric|                null|  92253| 5.0516|\n",
      "|              Diesel|                null|  73108| 4.0032|\n",
      "|Flexible Fuel Veh...|                null|  57017| 3.1221|\n",
      "|            Gasoline|       Ethanol (E85)|  22584| 1.2367|\n",
      "|            Electric|            Gasoline|  20454|   1.12|\n",
      "|            Gasoline|Flexible Fuel Veh...|   7437| 0.4072|\n",
      "|Flexible Fuel Veh...|       Ethanol (E85)|   7392| 0.4048|\n",
      "|Flexible Fuel Veh...|Flexible Fuel Veh...|   1282| 0.0702|\n",
      "|Flexible Fuel Veh...|            Gasoline|    963| 0.0527|\n",
      "|Flexible Fuel Veh...|            Electric|    477| 0.0261|\n",
      "|            Gasoline|            Gasoline|    331| 0.0181|\n",
      "|            Gasoline|Compressed Natura...|    291| 0.0159|\n",
      "|               Other|                null|    133| 0.0073|\n",
      "|Compressed Natura...|                null|     83| 0.0045|\n",
      "|              Hybrid|                null|     70| 0.0038|\n",
      "|      Not Applicable|      Not Applicable|     52| 0.0028|\n",
      "|Liquefied Petrole...|                null|     25| 0.0014|\n",
      "|       Ethanol (E85)|                null|     23| 0.0013|\n",
      "|       Ethanol (E85)|Flexible Fuel Veh...|     11| 6.0E-4|\n",
      "|Compressed Natura...|Liquefied Petrole...|      4| 2.0E-4|\n",
      "|Liquefied Petrole...|            Electric|      3| 2.0E-4|\n",
      "|Flexible Fuel Veh...|      Methanol (M85)|      1| 1.0E-4|\n",
      "|Compressed Natura...|            Electric|      1| 1.0E-4|\n",
      "|Flexible Fuel Veh...|Compressed Natura...|      1| 1.0E-4|\n",
      "|  Hydrogen Fuel Cell|                null|      1| 1.0E-4|\n",
      "|Liquefied Petrole...|            Gasoline|      1| 1.0E-4|\n",
      "|              Hybrid|            Electric|      1| 1.0E-4|\n",
      "|         Natural Gas|                null|      1| 1.0E-4|\n",
      "|            Gasoline|Liquefied Petrole...|      1| 1.0E-4|\n",
      "|Liquefied Petrole...|Compressed Natura...|      1| 1.0E-4|\n",
      "+--------------------+--------------------+-------+-------+\n",
      "\n"
     ]
    },
    {
     "name": "stderr",
     "output_type": "stream",
     "text": [
      "\r",
      "                                                                                \r"
     ]
    }
   ],
   "source": [
    "#primary-secondary fuel type combos counts/percentages\n",
    "query = f\"\"\"SELECT fuel_type_1, fuel_type_2, COUNT(*) AS count, ROUND(100*COUNT(*)/{n},4) AS pct \n",
    "            FROM sub_data\n",
    "            GROUP BY fuel_type_1,fuel_type_2\n",
    "            ORDER BY count DESC\"\"\"\n",
    "result = spark.sql(query)\n",
    "result.show(100)"
   ]
  },
  {
   "cell_type": "markdown",
   "id": "49caebc2",
   "metadata": {},
   "source": [
    "To simplify this, we will convert these values into a single `fuel_cat` field, based on the following rules:\n",
    "\n",
    " - \"Gasoline\" vehicles will be those with a primary fuel type of \"Gasoline\" and a secondary fuel type of NULL, \"Gasoline,\" \"Ethanol (E85),\" or \"Flexible Fuel Vehicle (FFV)\"; \n",
    " - \"Hybrid\" vehicles will be those with a primary fuel type of \"Hybrid\" and any secondary fuel type, or a primary fuel type of \"Gasoline\" and a secondary fuel type of \"Electric,\" or a primary fuel type of \"Electric\" and a secondary fuel type of \"Gasoline\"; \n",
    " - \"Electric\" vehicles will be those with a primary fuel type of \"Electric\" and a secondary fuel type of NULL; \n",
    " - \"Diesel\" vehicles will be those with a primary fuel type of \"Diesel\" and a secondary fuel type of NULL; \n",
    " - The \"Other\" category consists of all vehicles that do not meet any of these definitions.\n",
    " \n",
    "This is implemented in the below SQL query, and the table with the new `fuel_cat` variable is registered as `data`."
   ]
  },
  {
   "cell_type": "code",
   "execution_count": 10,
   "id": "250b97f2",
   "metadata": {},
   "outputs": [
    {
     "name": "stdout",
     "output_type": "stream",
     "text": [
      "+-----+----+-----+-----+------+----------------+------+-----------+-----------+-----+---------+--------------------+--------+--------+------+--------+------+-----+\n",
      "|month|year|brand|model|v_year|        own_type|county|fuel_type_1|fuel_type_2|state|post_code|       transact_type|fuel_cat|gasoline|hybrid|electric|diesel|other|\n",
      "+-----+----+-----+-----+------+----------------+------+-----------+-----------+-----+---------+--------------------+--------+--------+------+--------+------+-----+\n",
      "|    1|2020|ACURA|  RDX|  2018|Individual Owner|Pierce|   Gasoline|       null|   WA|    98335|Original Registra...|Gasoline|       1|     0|       0|     0|    0|\n",
      "|    1|2020|ACURA|  RDX|  2020|Individual Owner|  King|   Gasoline|       null|   WA|    98033|Original Registra...|Gasoline|       1|     0|       0|     0|    0|\n",
      "|    1|2020|ACURA|   TL|  2006|Individual Owner|Benton|   Gasoline|       null|   WA|    99354|Original Registra...|Gasoline|       1|     0|       0|     0|    0|\n",
      "+-----+----+-----+-----+------+----------------+------+-----------+-----------+-----+---------+--------------------+--------+--------+------+--------+------+-----+\n",
      "only showing top 3 rows\n",
      "\n"
     ]
    }
   ],
   "source": [
    "#create single fuel category based on combinations of fuel types 1,2\n",
    "query = \"\"\"\n",
    "SELECT *,\n",
    "    CASE WHEN fuel_cat='Gasoline' THEN 1\n",
    "      ELSE 0\n",
    "      END AS gasoline,\n",
    "    CASE WHEN fuel_cat='Hybrid' THEN 1\n",
    "      ELSE 0\n",
    "      END AS hybrid,\n",
    "    CASE WHEN fuel_cat='Electric' THEN 1\n",
    "      ELSE 0\n",
    "      END AS electric,\n",
    "    CASE WHEN fuel_cat='Diesel' THEN 1\n",
    "      ELSE 0\n",
    "      END AS diesel,\n",
    "    CASE WHEN fuel_cat='Other' THEN 1\n",
    "      ELSE 0\n",
    "      END AS other\n",
    "FROM\n",
    "    (SELECT *, \n",
    "        CASE\n",
    "            WHEN fuel_type_1 = 'Gasoline' AND (fuel_type_2 IS NULL OR fuel_type_2 IN ('Gasoline','Ethanol (E85)','Flexible Fuel Vehicle (FFV)')) \n",
    "                THEN 'Gasoline'\n",
    "            WHEN fuel_type_1 = 'Electric' AND (fuel_type_2 IS NULL) \n",
    "                THEN 'Electric'\n",
    "            WHEN fuel_type_1 = 'Hybrid' OR (fuel_type_1 = 'Gasoline' AND fuel_type_2 = 'Electric') OR (fuel_type_1 = 'Electric' AND fuel_type_2 = 'Gasoline')\n",
    "                THEN 'Hybrid'\n",
    "            WHEN fuel_type_1 = 'Diesel' AND (fuel_type_2 IS NULL)\n",
    "                THEN 'Diesel'\n",
    "            ELSE 'Other' \n",
    "        END AS fuel_cat\n",
    "    FROM sub_data)\n",
    "\"\"\"\n",
    "#run query\n",
    "subdata = spark.sql(query)\n",
    "\n",
    "#preview\n",
    "subdata.show(3)\n",
    "\n",
    "#register as table\n",
    "subdata.createOrReplaceTempView('data')"
   ]
  },
  {
   "cell_type": "markdown",
   "id": "75dd3bd2",
   "metadata": {},
   "source": [
    "## Identify Top Brands from the Current Year"
   ]
  },
  {
   "cell_type": "markdown",
   "id": "e4374bb1",
   "metadata": {},
   "source": [
    "Some of the visuals will include data specific to certain car brands, and will allow the user to specify a brand. We will limit these options to the top 15 brands for the current year. The below cell identifies and stores these brands, both in data frame and a string that can be used in SQL queries. "
   ]
  },
  {
   "cell_type": "code",
   "execution_count": 11,
   "id": "a96f842f",
   "metadata": {},
   "outputs": [
    {
     "name": "stderr",
     "output_type": "stream",
     "text": [
      "[Stage 12:=====================================================>  (41 + 2) / 43]\r"
     ]
    },
    {
     "name": "stdout",
     "output_type": "stream",
     "text": [
      "+------------+-----+\n",
      "|       brand|count|\n",
      "+------------+-----+\n",
      "|      TOYOTA|56984|\n",
      "|       HONDA|33177|\n",
      "|        FORD|32515|\n",
      "|      SUBARU|29383|\n",
      "|   CHEVROLET|24494|\n",
      "|       TESLA|18352|\n",
      "|         KIA|16332|\n",
      "|      NISSAN|15583|\n",
      "|     HYUNDAI|15430|\n",
      "|        JEEP|12783|\n",
      "|       MAZDA|11885|\n",
      "|         BMW|10344|\n",
      "|  VOLKSWAGEN| 8694|\n",
      "|         GMC| 7856|\n",
      "|MERCEDESBENZ| 7033|\n",
      "+------------+-----+\n",
      "\n"
     ]
    },
    {
     "name": "stderr",
     "output_type": "stream",
     "text": [
      "\r",
      "                                                                                \r"
     ]
    }
   ],
   "source": [
    "#get top brands for most recent year only\n",
    "num_brands = 15\n",
    "query = f\"\"\"\n",
    "SELECT brand, count\n",
    "FROM\n",
    "(SELECT brand, COUNT(*) AS count\n",
    "    FROM data\n",
    "    WHERE year={curr_yr}\n",
    "    GROUP BY brand\n",
    "    ORDER BY -count)\n",
    "LIMIT {num_brands}\n",
    "\"\"\"\n",
    "top_brands_curryr = query_to_df(query, show_num = num_brands)\n",
    "top_brands_curryr_str = str(tuple(top_brands_curryr['brand']))"
   ]
  },
  {
   "cell_type": "markdown",
   "id": "11514717",
   "metadata": {},
   "source": [
    "## Card Data"
   ]
  },
  {
   "cell_type": "markdown",
   "id": "b004b968",
   "metadata": {},
   "source": [
    "The next several cells process data that will be featured in indicator cards at the top of the dashboard."
   ]
  },
  {
   "cell_type": "markdown",
   "id": "2d8674c0",
   "metadata": {},
   "source": [
    "This cell gets the overall registration volume for the current year, as well as for the previous year, so that a year-over-year percent change can be shown."
   ]
  },
  {
   "cell_type": "code",
   "execution_count": 12,
   "id": "889681fa",
   "metadata": {},
   "outputs": [
    {
     "name": "stderr",
     "output_type": "stream",
     "text": [
      "                                                                                \r"
     ]
    },
    {
     "name": "stdout",
     "output_type": "stream",
     "text": [
      "+----+------+\n",
      "|year| count|\n",
      "+----+------+\n",
      "|2022|362338|\n",
      "|2023|368579|\n",
      "+----+------+\n",
      "\n"
     ]
    }
   ],
   "source": [
    "query = f\"\"\"\n",
    "SELECT year, COUNT(*) AS count\n",
    "FROM data\n",
    "WHERE year IN ({curr_yr-1},{curr_yr}) AND month <= {curr_mo}\n",
    "GROUP BY year\n",
    "ORDER BY year\n",
    "\"\"\"\n",
    "total_registration_counts_2y = query_to_df(query, show_num = 2, \n",
    "                                           export = 'app_data/total_regs_card.csv')"
   ]
  },
  {
   "cell_type": "markdown",
   "id": "ce380ddb",
   "metadata": {},
   "source": [
    "The next cell executes a query that identifies the top brand for the current year based on registration volume, and gets the number of registrations for the current and previous year (again, to show year-over-year change)."
   ]
  },
  {
   "cell_type": "code",
   "execution_count": 13,
   "id": "de6bdf72",
   "metadata": {},
   "outputs": [
    {
     "name": "stderr",
     "output_type": "stream",
     "text": [
      "[Stage 32:=====================================================>  (41 + 2) / 43]\r"
     ]
    },
    {
     "name": "stdout",
     "output_type": "stream",
     "text": [
      "+----+------+-----+\n",
      "|year| brand|count|\n",
      "+----+------+-----+\n",
      "|2022|TOYOTA|59692|\n",
      "|2023|TOYOTA|56984|\n",
      "+----+------+-----+\n",
      "\n"
     ]
    },
    {
     "name": "stderr",
     "output_type": "stream",
     "text": [
      "\r",
      "                                                                                \r"
     ]
    }
   ],
   "source": [
    "query = f\"\"\"\n",
    "SELECT year, brand, COUNT(*) AS count\n",
    "FROM data\n",
    "WHERE year IN ({curr_yr-1},{curr_yr}) AND month <= {curr_mo} AND brand IN \n",
    "    (SELECT brand \n",
    "    FROM\n",
    "    (SELECT year, brand, COUNT(*) AS count\n",
    "    FROM data\n",
    "    WHERE year IN ({curr_yr})\n",
    "    GROUP BY year, brand\n",
    "    ORDER BY -count\n",
    "    LIMIT 1))\n",
    "GROUP BY year, brand\n",
    "ORDER BY year\n",
    "LIMIT 2\n",
    "\"\"\"\n",
    "top_brand_count_2yr = query_to_df(query, show_num = 2, \n",
    "                                  export = 'app_data/top_brand_card.csv')"
   ]
  },
  {
   "cell_type": "markdown",
   "id": "d196d679",
   "metadata": {},
   "source": [
    "To get the data for the third and final card, the next cell gets the registration volumes for all of the fuel categories for the previous two years. The card that uses this data will show the fuel category with the greatest year-over-year change (excluding the \"Other\" category)."
   ]
  },
  {
   "cell_type": "code",
   "execution_count": 14,
   "id": "659a2e04",
   "metadata": {},
   "outputs": [
    {
     "name": "stderr",
     "output_type": "stream",
     "text": [
      "                                                                                \r"
     ]
    },
    {
     "name": "stdout",
     "output_type": "stream",
     "text": [
      "+----+------+--------+------+--------+------+\n",
      "|year| total|Gasoline|Hybrid|Electric|Diesel|\n",
      "+----+------+--------+------+--------+------+\n",
      "|2022|362338|  283195| 33569|   18383| 14418|\n",
      "|2023|368579|  270867| 41049|   33196| 12016|\n",
      "+----+------+--------+------+--------+------+\n",
      "\n"
     ]
    }
   ],
   "source": [
    "query = f\"\"\"\n",
    "SELECT year, \n",
    "       COUNT(*) AS total,\n",
    "       SUM(gasoline) AS Gasoline,\n",
    "       SUM(hybrid) AS Hybrid,\n",
    "       SUM(electric) AS Electric,\n",
    "       SUM(diesel) AS Diesel\n",
    "FROM \n",
    "    (SELECT year, gasoline, hybrid, electric, diesel\n",
    "    FROM data\n",
    "    WHERE year IN ({curr_yr-1},{curr_yr}) AND month <= {curr_mo})\n",
    "GROUP BY year\n",
    "ORDER BY year\n",
    "\"\"\"\n",
    "fuel_types_curryr = query_to_df(query, show_num = 2, \n",
    "                                export = 'app_data/fuel_card.csv')"
   ]
  },
  {
   "cell_type": "markdown",
   "id": "48c30c52",
   "metadata": {},
   "source": [
    "## Top Brands Bar Chart Data"
   ]
  },
  {
   "cell_type": "markdown",
   "id": "47f06ff4",
   "metadata": {},
   "source": [
    "The dashboard will include a bar chart showing registration volumes for the top brands for different years and counties (as well as the overall statewide figures), based on user-selected options. The registration volumes will be disaggregated by fuel type. The below cell implements the query to get the data needed for this chart."
   ]
  },
  {
   "cell_type": "code",
   "execution_count": 15,
   "id": "bca8eb2d",
   "metadata": {},
   "outputs": [
    {
     "name": "stderr",
     "output_type": "stream",
     "text": [
      "                                                                                \r"
     ]
    },
    {
     "name": "stdout",
     "output_type": "stream",
     "text": [
      "+----+------+---------+-----+--------+------+--------+------+-----+----+----------+\n",
      "|year|county|    brand|total|Gasoline|Hybrid|Electric|Diesel|Other|rank|data_label|\n",
      "+----+------+---------+-----+--------+------+--------+------+-----+----+----------+\n",
      "|2020| Adams|     FORD|  149|     122|     1|       0|    19|    7|   1|       149|\n",
      "|2020| Adams|CHEVROLET|  130|     115|     0|       1|     5|    9|   2|       130|\n",
      "|2020| Adams|    HONDA|  105|     100|     4|       0|     0|    1|   3|       105|\n",
      "|2020| Adams|   TOYOTA|   95|      84|    10|       0|     0|    1|   4|        95|\n",
      "|2020| Adams|   NISSAN|   57|      57|     0|       0|     0|    0|   5|        57|\n",
      "+----+------+---------+-----+--------+------+--------+------+-----+----+----------+\n",
      "only showing top 5 rows\n",
      "\n"
     ]
    }
   ],
   "source": [
    "#query top brands by county\n",
    "num_brands = 10\n",
    "query = f\"\"\"\n",
    "SELECT * , \n",
    "    CASE WHEN total>=1000 THEN CONCAT(ROUND(total/1000, 2),'K') \n",
    "    ELSE total END AS data_label FROM\n",
    "((SELECT * \n",
    "FROM\n",
    "    (SELECT year, county, brand, total, Gasoline, Hybrid, Electric, Diesel, Other,\n",
    "           ROW_NUMBER() OVER (PARTITION BY year, county ORDER BY total DESC) AS rank\n",
    "    FROM\n",
    "        (SELECT year, \n",
    "           county,\n",
    "           brand,\n",
    "           COUNT(*) as total,\n",
    "           SUM(gasoline) as Gasoline,\n",
    "           SUM(hybrid) as Hybrid,\n",
    "           SUM(electric) as Electric,\n",
    "           SUM(diesel) as Diesel,\n",
    "           SUM(other) as Other\n",
    "        FROM \n",
    "            (SELECT year, county, brand, gasoline, hybrid, electric, diesel, other\n",
    "            FROM data)\n",
    "        GROUP BY year, county, brand))\n",
    "WHERE rank<={num_brands})\n",
    "UNION\n",
    "(SELECT *\n",
    "FROM\n",
    "    (SELECT year, 'Statewide' AS county, brand, total, Gasoline, Hybrid, Electric, Diesel, Other,\n",
    "           ROW_NUMBER() OVER (PARTITION BY year ORDER BY total DESC) AS rank\n",
    "    FROM\n",
    "        (SELECT year, \n",
    "           brand,\n",
    "           COUNT(*) as total,\n",
    "           SUM(gasoline) as Gasoline,\n",
    "           SUM(hybrid) as Hybrid,\n",
    "           SUM(electric) as Electric,\n",
    "           SUM(diesel) as Diesel,\n",
    "           SUM(other) as Other\n",
    "        FROM \n",
    "            (SELECT year, brand, gasoline, hybrid, electric, diesel, other\n",
    "            FROM data)\n",
    "        GROUP BY year, brand))\n",
    "WHERE rank<={num_brands}))\n",
    "ORDER BY year, county, -total\n",
    "\"\"\"\n",
    "top_brands = query_to_df(query, show_num = 5, export = 'app_data/top_brands.csv')"
   ]
  },
  {
   "cell_type": "markdown",
   "id": "c32ce467",
   "metadata": {},
   "source": [
    "## Monthly Time Series"
   ]
  },
  {
   "cell_type": "markdown",
   "id": "763429eb",
   "metadata": {},
   "source": [
    "The dashboard will also feature a monthly time series area chart. It will show monthly registrations by fuel type for user-specified brands (or all brands) and counties (or statewide). There will be an option to display the data in terms of registration volumes or as fuel shares such that the total value for each month is 100%. The below query pulls the data required for this chart."
   ]
  },
  {
   "cell_type": "code",
   "execution_count": 16,
   "id": "9f85d25a",
   "metadata": {},
   "outputs": [
    {
     "name": "stderr",
     "output_type": "stream",
     "text": [
      "                                                                                \r"
     ]
    },
    {
     "name": "stdout",
     "output_type": "stream",
     "text": [
      "+----+-----+------+----------+------------+---------------+-------------+---------------+-------------+------------+--------------+------------+--------------+------------+-----------+\n",
      "|year|month|county|     brand|Total_volume|Gasoline_volume|Hybrid_volume|Electric_volume|Diesel_volume|Other_volume|Gasoline_share|Hybrid_share|Electric_share|Diesel_share|Other_share|\n",
      "+----+-----+------+----------+------------+---------------+-------------+---------------+-------------+------------+--------------+------------+--------------+------------+-----------+\n",
      "|2020|    1| Adams|ALL BRANDS|          95|             77|            3|              1|            8|           6|         81.05|        3.16|          1.05|        8.42|       6.32|\n",
      "|2020|    1| Adams| CHEVROLET|          11|             10|            0|              0|            0|           1|         90.91|         0.0|           0.0|         0.0|       9.09|\n",
      "|2020|    1| Adams|      FORD|          23|             20|            1|              0|            1|           1|         86.96|        4.35|           0.0|        4.35|       4.35|\n",
      "|2020|    1| Adams|       GMC|           3|              3|            0|              0|            0|           0|         100.0|         0.0|           0.0|         0.0|        0.0|\n",
      "|2020|    1| Adams|     HONDA|           9|              8|            1|              0|            0|           0|         88.89|       11.11|           0.0|         0.0|        0.0|\n",
      "+----+-----+------+----------+------------+---------------+-------------+---------------+-------------+------------+--------------+------------+--------------+------------+-----------+\n",
      "only showing top 5 rows\n",
      "\n"
     ]
    },
    {
     "name": "stderr",
     "output_type": "stream",
     "text": [
      "\r",
      "[Stage 108:=============================================>       (170 + 8) / 200]\r",
      "\r",
      "                                                                                \r"
     ]
    }
   ],
   "source": [
    "#add county to above\n",
    "query = f\"\"\"\n",
    "SELECT * , ROUND(100*Gasoline_volume/Total_volume,2) AS Gasoline_share, \n",
    "           ROUND(100*Hybrid_volume/Total_volume,2) AS Hybrid_share,\n",
    "           ROUND(100*Electric_volume/Total_volume,2) AS Electric_share, \n",
    "           ROUND(100*Diesel_volume/Total_volume,2) AS Diesel_share, \n",
    "           ROUND(100*Other_volume/Total_volume,2) AS Other_share\n",
    "FROM\n",
    "    ((SELECT year, month, 'Statewide' AS county, 'ALL BRANDS' AS brand, \n",
    "           COUNT(*) AS Total_volume,\n",
    "           SUM(gasoline) AS Gasoline_volume,\n",
    "           SUM(hybrid) AS Hybrid_volume,\n",
    "           SUM(electric) AS Electric_volume,\n",
    "           SUM(diesel) AS Diesel_volume,\n",
    "           SUM(other) AS Other_volume\n",
    "        FROM \n",
    "            (SELECT year, month, gasoline, hybrid, electric, diesel, other\n",
    "            FROM data)\n",
    "        GROUP BY year, month\n",
    "        ORDER BY year, month)\n",
    "    UNION\n",
    "    (SELECT year, month, county, 'ALL BRANDS' AS brand, \n",
    "           COUNT(*) AS Total_volume,\n",
    "           SUM(gasoline) AS Gasoline_volume,\n",
    "           SUM(hybrid) AS Hybrid_volume,\n",
    "           SUM(electric) AS Electric_volume,\n",
    "           SUM(diesel) AS Diesel_volume,\n",
    "           SUM(other) AS Other_volume\n",
    "        FROM \n",
    "            (SELECT year, month, county, gasoline, hybrid, electric, diesel, other\n",
    "            FROM data)\n",
    "        GROUP BY year, month, county\n",
    "        ORDER BY year, month, county)\n",
    "    UNION\n",
    "    (SELECT year, month, 'Statewide' AS county, brand, \n",
    "           COUNT(*) AS Total_volume,\n",
    "           SUM(gasoline) AS Gasoline_volume,\n",
    "           SUM(hybrid) AS Hybrid_volume,\n",
    "           SUM(electric) AS Electric_volume,\n",
    "           SUM(diesel) AS Diesel_volume,\n",
    "           SUM(other) AS Other_volume\n",
    "        FROM \n",
    "            (SELECT year, month, brand, gasoline, hybrid, electric, diesel, other\n",
    "            FROM data\n",
    "            WHERE brand IN {top_brands_curryr_str})\n",
    "        GROUP BY year, month, brand\n",
    "        ORDER BY year, month, brand)\n",
    "    UNION\n",
    "    (SELECT year, month, county, brand, \n",
    "           COUNT(*) AS Total,\n",
    "           SUM(gasoline) AS Gasoline,\n",
    "           SUM(hybrid) AS Hybrid,\n",
    "           SUM(electric) AS Electric,\n",
    "           SUM(diesel) AS Diesel,\n",
    "           SUM(other) AS Other\n",
    "        FROM \n",
    "            (SELECT year, month, county, brand, gasoline, hybrid, electric, diesel, other\n",
    "            FROM data\n",
    "            WHERE brand IN {top_brands_curryr_str})\n",
    "        GROUP BY year, month, county, brand\n",
    "        ORDER BY year, month, county, brand))\n",
    "ORDER BY year, month, county, brand\n",
    "\"\"\"\n",
    "mnly_ts_data = query_to_df(query, show_num = 5)"
   ]
  },
  {
   "cell_type": "markdown",
   "id": "c952bb5b",
   "metadata": {},
   "source": [
    "Before exporting the data, a few formatting adjustments are made to the data using Pandas in the below cell."
   ]
  },
  {
   "cell_type": "code",
   "execution_count": 17,
   "id": "ebb3fa99",
   "metadata": {},
   "outputs": [
    {
     "name": "stderr",
     "output_type": "stream",
     "text": [
      "/Users/gregtrunz/opt/anaconda3/envs/pyspark_env/lib/python3.8/site-packages/pandas/core/internals/blocks.py:2323: RuntimeWarning: invalid value encountered in cast\n",
      "  values = values.astype(str)\n"
     ]
    }
   ],
   "source": [
    "#format brand names\n",
    "mnly_ts_data['brand'] = mnly_ts_data['brand'].apply(lambda x: get_formatted_brand_name(x))\n",
    "\n",
    "#ensure all year, month, county, and brand combinations are represented in the data,\n",
    "#even if they have zero values\n",
    "yrs = sorted(mnly_ts_data['year'].unique())\n",
    "mos = sorted(mnly_ts_data['month'].unique())\n",
    "counties = sorted(mnly_ts_data['county'].unique())\n",
    "brands = sorted(mnly_ts_data['brand'].unique())\n",
    "all_combos_df = pd.DataFrame([i for i in product(yrs,mos,counties,brands)], \n",
    "                          columns = ['year','month','county','brand'])\n",
    "mnly_ts_data = all_combos_df.merge(mnly_ts_data, how = 'left', \n",
    "                                   on = ['year','month','county','brand'])\n",
    "\n",
    "#make a datetime format variable based on year and month columns\n",
    "mnly_ts_data['dt'] = pd.to_datetime(mnly_ts_data[['year','month']].assign(day = 1))\n",
    "\n",
    "#ensure all values are for current month and earlier, \n",
    "#since the all_combos_df will include all months for all years\n",
    "timefilt = mnly_ts_data['dt']<pd.to_datetime(f'{curr_yr}-{curr_mo+1}-1')\n",
    "mnly_ts_data = mnly_ts_data[timefilt]\n",
    "\n",
    "#export\n",
    "mnly_ts_data.to_csv('app_data/mnly_ts_data.csv', index = False)"
   ]
  },
  {
   "cell_type": "markdown",
   "id": "19482349",
   "metadata": {},
   "source": [
    "## Map and Scatterplot Data"
   ]
  },
  {
   "cell_type": "markdown",
   "id": "4c883aa1",
   "metadata": {},
   "source": [
    "Finally, we will get vehicle registration data that will be added on to the county-level data in `map_df` and used in the map and scatter plot visuals in the dashboard. The choropleth map will show registration data by county for 2023 and the scatterplot will allow users to examine how different brands and fuel types correlate with median income or population density across counties. "
   ]
  },
  {
   "cell_type": "markdown",
   "id": "042ecc4b",
   "metadata": {},
   "source": [
    "The following code cell gets total registration volumes and volumes for each fuel type across all brands, and merges this data with `map_df`."
   ]
  },
  {
   "cell_type": "code",
   "execution_count": 18,
   "id": "af9bccd2",
   "metadata": {},
   "outputs": [
    {
     "name": "stderr",
     "output_type": "stream",
     "text": [
      "                                                                                \r"
     ]
    }
   ],
   "source": [
    "#counts by county and fuel type, all brands\n",
    "query = f\"\"\"\n",
    "SELECT county,\n",
    "            SUM(total) AS {curr_yr}_allbrands_allfueltypes_count, \n",
    "            SUM(gasoline) AS {curr_yr}_allbrands_gasoline_count, \n",
    "            SUM(hybrid) AS {curr_yr}_allbrands_hybrid_count,\n",
    "            SUM(electric) AS {curr_yr}_allbrands_electric_count, \n",
    "            SUM(diesel) AS {curr_yr}_allbrands_diesel_count\n",
    "FROM\n",
    "    (SELECT county,1 AS total,gasoline,hybrid,electric,diesel                    \n",
    "    FROM data\n",
    "    WHERE year={curr_yr})\n",
    "GROUP BY county\n",
    "ORDER BY county\n",
    "\"\"\"\n",
    "all_brand_df = query_to_df(query)\n",
    "map_df = map_df.merge(all_brand_df, how = 'left', on = 'county')"
   ]
  },
  {
   "cell_type": "markdown",
   "id": "ff6f888a",
   "metadata": {},
   "source": [
    "The next cell gets total registration volumes and volumes for each fuel type for each of the top brands for the current year and merges this data with `map_df`."
   ]
  },
  {
   "cell_type": "code",
   "execution_count": 19,
   "id": "158689e9",
   "metadata": {},
   "outputs": [
    {
     "name": "stderr",
     "output_type": "stream",
     "text": [
      "                                                                                \r"
     ]
    }
   ],
   "source": [
    "#counts by county, year, brand\n",
    "dfs = {}\n",
    "for brand in top_brands_curryr['brand']:\n",
    "    query = f\"\"\"\n",
    "    SELECT county,\n",
    "                SUM(total) AS {curr_yr}_{brand.lower()}_allfueltypes_count, \n",
    "                SUM(gasoline) AS {curr_yr}_{brand.lower()}_gasoline_count, \n",
    "                SUM(hybrid) AS {curr_yr}_{brand.lower()}_hybrid_count,\n",
    "                SUM(electric) AS {curr_yr}_{brand.lower()}_electric_count, \n",
    "                SUM(diesel) AS {curr_yr}_{brand.lower()}_diesel_count\n",
    "    FROM\n",
    "        (SELECT county,1 AS total,gasoline,hybrid,electric,diesel                    \n",
    "        FROM data\n",
    "        WHERE year={curr_yr} AND brand='{brand}')\n",
    "    GROUP BY county\n",
    "    ORDER BY county\n",
    "    \"\"\"\n",
    "    brand_df = query_to_df(query)\n",
    "    dfs[f'{brand.lower()}'] = brand_df\n",
    "\n",
    "#dfs together with each other and data from map_df\n",
    "for i in dfs.values():\n",
    "    map_df = map_df.merge(i, how = 'left', on = 'county')  "
   ]
  },
  {
   "cell_type": "markdown",
   "id": "dfd01cbc",
   "metadata": {},
   "source": [
    "Finally, the next cell creates additional variables related to brand share, fuel type share, and registrations per capita based on the existing data in `map_df` and exports the data frame."
   ]
  },
  {
   "cell_type": "code",
   "execution_count": 21,
   "id": "626e358e",
   "metadata": {},
   "outputs": [],
   "source": [
    "for brand in ['allbrands']+top_brands_curryr['brand'].str.lower().tolist():\n",
    "    for ft in ['gasoline','hybrid','electric','diesel','allfueltypes']:\n",
    "        shareft_den = map_df[f'{curr_yr}_{brand}_allfueltypes_count']\n",
    "        sharebr_den = map_df[f'{curr_yr}_allbrands_{ft}_count']\n",
    "        num = map_df[f'{curr_yr}_{brand}_{ft}_count']\n",
    "        map_df[f'{curr_yr}_{brand}_{ft}_shareft'] = (100*num/ shareft_den).round(3)\n",
    "        map_df[f'{curr_yr}_{brand}_{ft}_sharebr'] = (100*num/ sharebr_den).round(3)\n",
    "        map_df[f'{curr_yr}_{brand}_{ft}_percap'] = (10000*num/map_df['population']).round(3)\n",
    "        \n",
    "map_df = map_df.fillna(0)\n",
    "map_df.to_csv('app_data/map_data.csv', index = False)"
   ]
  },
  {
   "cell_type": "code",
   "execution_count": 22,
   "id": "ef5a1b96",
   "metadata": {},
   "outputs": [],
   "source": [
    "spark.stop()"
   ]
  }
 ],
 "metadata": {
  "kernelspec": {
   "display_name": "Python 3 (ipykernel)",
   "language": "python",
   "name": "python3"
  },
  "language_info": {
   "codemirror_mode": {
    "name": "ipython",
    "version": 3
   },
   "file_extension": ".py",
   "mimetype": "text/x-python",
   "name": "python",
   "nbconvert_exporter": "python",
   "pygments_lexer": "ipython3",
   "version": "3.8.15"
  }
 },
 "nbformat": 4,
 "nbformat_minor": 5
}
